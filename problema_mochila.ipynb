{
  "nbformat": 4,
  "nbformat_minor": 0,
  "metadata": {
    "colab": {
      "name": "problema_mochila.ipynb",
      "provenance": [],
      "collapsed_sections": []
    },
    "kernelspec": {
      "name": "python3",
      "display_name": "Python 3"
    },
    "language_info": {
      "name": "python"
    }
  },
  "cells": [
    {
      "cell_type": "code",
      "metadata": {
        "colab": {
          "base_uri": "https://localhost:8080/"
        },
        "id": "_By7V3LGF2MI",
        "outputId": "fdf2a7f7-f48d-434c-ec03-b6b8b9b5355e"
      },
      "source": [
        "pip install deap\n"
      ],
      "execution_count": null,
      "outputs": [
        {
          "output_type": "stream",
          "text": [
            "Collecting deap\n",
            "\u001b[?25l  Downloading https://files.pythonhosted.org/packages/99/d1/803c7a387d8a7e6866160b1541307f88d534da4291572fb32f69d2548afb/deap-1.3.1-cp37-cp37m-manylinux2010_x86_64.whl (157kB)\n",
            "\r\u001b[K     |██                              | 10kB 17.3MB/s eta 0:00:01\r\u001b[K     |████▏                           | 20kB 23.1MB/s eta 0:00:01\r\u001b[K     |██████▏                         | 30kB 25.6MB/s eta 0:00:01\r\u001b[K     |████████▎                       | 40kB 28.3MB/s eta 0:00:01\r\u001b[K     |██████████▍                     | 51kB 24.0MB/s eta 0:00:01\r\u001b[K     |████████████▍                   | 61kB 20.0MB/s eta 0:00:01\r\u001b[K     |██████████████▌                 | 71kB 20.3MB/s eta 0:00:01\r\u001b[K     |████████████████▋               | 81kB 20.2MB/s eta 0:00:01\r\u001b[K     |██████████████████▋             | 92kB 18.3MB/s eta 0:00:01\r\u001b[K     |████████████████████▊           | 102kB 19.5MB/s eta 0:00:01\r\u001b[K     |██████████████████████▉         | 112kB 19.5MB/s eta 0:00:01\r\u001b[K     |████████████████████████▉       | 122kB 19.5MB/s eta 0:00:01\r\u001b[K     |███████████████████████████     | 133kB 19.5MB/s eta 0:00:01\r\u001b[K     |█████████████████████████████   | 143kB 19.5MB/s eta 0:00:01\r\u001b[K     |███████████████████████████████ | 153kB 19.5MB/s eta 0:00:01\r\u001b[K     |████████████████████████████████| 163kB 19.5MB/s \n",
            "\u001b[?25hRequirement already satisfied: numpy in /usr/local/lib/python3.7/dist-packages (from deap) (1.19.5)\n",
            "Installing collected packages: deap\n",
            "Successfully installed deap-1.3.1\n"
          ],
          "name": "stdout"
        }
      ]
    },
    {
      "cell_type": "code",
      "metadata": {
        "colab": {
          "base_uri": "https://localhost:8080/"
        },
        "id": "Q6YphpdSzPuz",
        "outputId": "911a9229-1064-42bb-f0ee-4ae9d89ac30e"
      },
      "source": [
        "# Imports necessários\n",
        "import random\n",
        "from deap import creator, base, tools, algorithms\n",
        "\n",
        "# Definindo peso máximo da mochila\n",
        "PESO_MÁXIMO = 50\n",
        "\n",
        "#Criando itens\n",
        "def criar_itens(qtd_itens):\n",
        "    itens = []\n",
        "    for x in range(qtd_itens):\n",
        "        itens.append({\"peso\": random.randint(1,10), \"valor\": random.uniform(1, 100)})\n",
        "    return itens\n",
        "\n",
        "# Adicionando os itens criados a uma lista\n",
        "itens = criar_itens(10)\n",
        "\n",
        "# Define o tipo fitness: Um objetivo com maximização\n",
        "creator.create(\"FitnessMax\", base.Fitness, weights=(1.0,))\n",
        "\n",
        "# Define o tipo indivíduo: indivíduo do tipo list (array) com\n",
        "# a fitness definida anteriormente.\n",
        "creator.create(\"Individual\", list, fitness=creator.FitnessMax)\n",
        "\n",
        "# Toolbox para inicialização de componentes do algoritmo\n",
        "toolbox = base.Toolbox()\n",
        "\n",
        "# Atributo booleano criado de forma aleatório\n",
        "toolbox.register(\"attr_bool\",\n",
        "                 random.random)\n",
        "\n",
        "# Indivíduo (tipo Inidividual) criado a partir do atributo definido\n",
        "# anteriormente. Ou seja, indivíduo do tipo booleano.\n",
        "# São criados 10 indivíduos. initRepeat faz esse papel\n",
        "toolbox.register(\"individual\",\n",
        "                 tools.initRepeat, creator.Individual, toolbox.attr_bool, n=10)\n",
        "\n",
        "# Criação da população, do tipo lista composto\n",
        "# por indivíduos (individual)\n",
        "toolbox.register(\"population\",\n",
        "                 tools.initRepeat, list, toolbox.individual)\n",
        "\n",
        "# Criação da função de fitness.\n",
        "# A função recebe um indivíduo e retorna uma tupla\n",
        "# que representa a avaliação do indivíduo\n",
        "def evalOneMax(individual):\n",
        "    valor = 0\n",
        "    peso = 0\n",
        "    for index in range(len(individual)):\n",
        "        if individual[index] > 0.5:\n",
        "            valor += itens[index]['valor']\n",
        "            peso += itens[index]['peso']\n",
        "    if (peso > PESO_MÁXIMO):\n",
        "        return 100000000, 0\n",
        "    return peso, valor\n",
        " \n",
        "#Função para obter os itens \n",
        "def obter_itens(individual):\n",
        "    itens_obtencao = []\n",
        "    for index in range(len(individual)):\n",
        "        if individual[index] > 0.5:\n",
        "            itens_obtencao.append((index, itens[index]))\n",
        "    return itens_obtencao\n",
        "\n",
        "# registra a função de fitness\n",
        "toolbox.register(\"evaluate\", evalOneMax)\n",
        "\n",
        "# registro dos operadores\n",
        "toolbox.register(\"mate\", tools.cxTwoPoint)  # crossover\n",
        "toolbox.register(\"mutate\", tools.mutFlipBit, indpb=0.05)  # mutação\n",
        "\n",
        "# registro do método de seleção\n",
        "toolbox.register(\"select\", tools.selTournament, tournsize=3)\n",
        "\n",
        "# tamanho da população\n",
        "population = toolbox.population(n=300)\n",
        "\n",
        "# iniciando o processo de evolução\n",
        "# número de gerações\n",
        "\n",
        "NGEN = 50\n",
        "for gen in range(NGEN):\n",
        "\n",
        "    # O módulo algorithms implementa vários algoritmos evolucionários\n",
        "    # Na documentação tem a lista:\n",
        "    # https://deap.readthedocs.io/en/master/api/algo.html\n",
        "    # varAnd aplica operações de mutação e crossover\n",
        "    # cxpb: probabilidade de crossover\n",
        "    # mutpb: probabilidade de mutação\n",
        "    offspring = algorithms.varAnd(population, toolbox, cxpb=0.5, mutpb=0.1)\n",
        "\n",
        "    # avalia cada indivíduo\n",
        "    fits = toolbox.map(toolbox.evaluate, offspring)\n",
        "\n",
        "    # associa cada indivíduo ao seu valor de fitness\n",
        "    for fit, ind in zip(fits, offspring):\n",
        "        ind.fitness.values = [fit[1]]\n",
        "\n",
        "    # aplica a seleção para gerar a nova população\n",
        "    population = toolbox.select(offspring, k=len(population))\n",
        "\n",
        "# retorna o k melhor indivíduos da última população\n",
        "top10 = tools.selBest(population, k=5)\n",
        "\n",
        "# Obtém a lista de itens selecionados\n",
        "itens = obter_itens(top10[0])\n",
        "\n",
        "# Faz o mapeamento para obtenção dos valores de peso e valor\n",
        "pesos = list(map(lambda x: x[1]['peso'], itens))\n",
        "valores = list(map(lambda x: x[1]['valor'], itens))\n",
        "\n",
        "# Imprime o peso e o valor total da mochila\n",
        "print(\"O peso máximo da mochila é \", PESO_MÁXIMO)\n",
        "print(\"Peso Ideal: {0} | Valor Ideal: {1:.2f} \".format(sum(pesos), sum(valores)))"
      ],
      "execution_count": null,
      "outputs": [
        {
          "output_type": "stream",
          "text": [
            "O peso máximo da mochila é  50\n",
            "Peso Ideal: 45 | Valor Ideal: 254.19 \n"
          ],
          "name": "stdout"
        }
      ]
    }
  ]
}